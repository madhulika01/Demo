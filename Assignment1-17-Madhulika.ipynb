{
 "cells": [
  {
   "cell_type": "code",
   "execution_count": 1,
   "metadata": {},
   "outputs": [],
   "source": [
    "#simple calculator for basic operations"
   ]
  },
  {
   "cell_type": "code",
   "execution_count": 2,
   "metadata": {},
   "outputs": [],
   "source": [
    "def add(a,b):\n",
    "    return a+b"
   ]
  },
  {
   "cell_type": "code",
   "execution_count": 3,
   "metadata": {},
   "outputs": [],
   "source": [
    "def subtract(a,b):\n",
    "    return a-b"
   ]
  },
  {
   "cell_type": "code",
   "execution_count": 4,
   "metadata": {},
   "outputs": [],
   "source": [
    "def multiply(a,b):\n",
    "    return a*b"
   ]
  },
  {
   "cell_type": "code",
   "execution_count": 5,
   "metadata": {},
   "outputs": [],
   "source": [
    "def divide(a,b):\n",
    "    return a/b"
   ]
  },
  {
   "cell_type": "code",
   "execution_count": 6,
   "metadata": {},
   "outputs": [],
   "source": [
    "def modulus(a,b):\n",
    "    return a%b"
   ]
  },
  {
   "cell_type": "code",
   "execution_count": 7,
   "metadata": {},
   "outputs": [],
   "source": [
    "def exponent(a,b):\n",
    "    return a ** b"
   ]
  },
  {
   "cell_type": "code",
   "execution_count": 8,
   "metadata": {},
   "outputs": [],
   "source": [
    "def floordivison(a,b):\n",
    "    return a//b"
   ]
  },
  {
   "cell_type": "code",
   "execution_count": 9,
   "metadata": {},
   "outputs": [
    {
     "name": "stdout",
     "output_type": "stream",
     "text": [
      "Please select a operation\n",
      "1.Addition\n",
      "2.Subtraction\n",
      "3.Multiplication\n",
      "4.Division\n",
      "5.Modulus\n",
      "6.Exponent\n",
      "7.Floor Division\n",
      "Select operations form 1, 2, 3, 4, 5, 6, 7:6\n",
      "Enter first number: 2\n",
      "Enter second number: 4\n",
      "2 ** 4 = 16\n"
     ]
    }
   ],
   "source": [
    "print(\"Please select a operation\\n1.Addition\\n2.Subtraction\\n3.Multiplication\\n4.Division\\n5.Modulus\\n6.Exponent\\n7.Floor Division\")\n",
    "select = int(input(\"Select operations form 1, 2, 3, 4, 5, 6, 7:\")) \n",
    "a = int(input(\"Enter first number: \")) \n",
    "b= int(input(\"Enter second number: \")) \n",
    "if select == 1: \n",
    "    print(a, \"+\", b, \"=\",add(a,b))  \n",
    "elif select == 2: \n",
    "    print(a, \"-\", b, \"=\", subtract(a,b)) \n",
    "elif select == 3: \n",
    "    print(a, \"*\", b, \"=\",multiply(a,b)) \n",
    "elif select == 4: \n",
    "    print(a, \"/\", b, \"=\",divide(a,b)) \n",
    "elif select == 5: \n",
    "    print(a, \"%\", b, \"=\",modulus(a,b)) \n",
    "elif select == 6: \n",
    "    print(a, \"**\", b, \"=\",exponent(a,b)) \n",
    "elif select == 7: \n",
    "    print(a, \"//\", b, \"=\",floordivision(a,b)) \n",
    "else: \n",
    "    print(\"Invalid input\") "
   ]
  },
  {
   "cell_type": "code",
   "execution_count": 10,
   "metadata": {},
   "outputs": [],
   "source": [
    "#Simple Interest"
   ]
  },
  {
   "cell_type": "code",
   "execution_count": 11,
   "metadata": {},
   "outputs": [
    {
     "name": "stdout",
     "output_type": "stream",
     "text": [
      "Enter the principle amount10000\n",
      "Enter the rate of interest5\n",
      "Enter the time period5\n",
      "The Simple Interest is  2500.0\n"
     ]
    }
   ],
   "source": [
    "P=int(input(\"Enter the principle amount\"))\n",
    "R=int(input(\"Enter the rate of interest\"))\n",
    "T=int(input(\"Enter the time period\"))\n",
    "SI=(P*R*T)/100\n",
    "print(\"The Simple Interest is \",SI)"
   ]
  },
  {
   "cell_type": "code",
   "execution_count": 12,
   "metadata": {},
   "outputs": [],
   "source": [
    "#Area of circle"
   ]
  },
  {
   "cell_type": "code",
   "execution_count": 13,
   "metadata": {},
   "outputs": [
    {
     "name": "stdout",
     "output_type": "stream",
     "text": [
      "Enter radius of circle4\n",
      "The area of circle is 50.24\n"
     ]
    }
   ],
   "source": [
    "r=int(input(\"Enter radius of circle\"))\n",
    "PI=3.14\n",
    "Area=PI*(r*r)\n",
    "print(\"The area of circle is\",Area)"
   ]
  },
  {
   "cell_type": "code",
   "execution_count": 14,
   "metadata": {},
   "outputs": [],
   "source": [
    "#Area of triangle"
   ]
  },
  {
   "cell_type": "code",
   "execution_count": 16,
   "metadata": {},
   "outputs": [
    {
     "name": "stdout",
     "output_type": "stream",
     "text": [
      "Enter the base of triangle4\n",
      "Enter the height of triangle9\n",
      "The area of triangle is: 18.0\n"
     ]
    }
   ],
   "source": [
    "base=int(input(\"Enter the base of triangle\"))\n",
    "height=int(input(\"Enter the height of triangle\"))\n",
    "area_triangle=0.5*(base*height)\n",
    "print(\"The area of triangle is:\",area_triangle)"
   ]
  },
  {
   "cell_type": "code",
   "execution_count": 18,
   "metadata": {},
   "outputs": [],
   "source": [
    "#celsius temperature to fahrenheit"
   ]
  },
  {
   "cell_type": "code",
   "execution_count": 19,
   "metadata": {},
   "outputs": [
    {
     "name": "stdout",
     "output_type": "stream",
     "text": [
      "Enter temperature in celsius25\n",
      "Temperature in Fahrenheit is: 77.0\n"
     ]
    }
   ],
   "source": [
    "celsius=float(input(\"Enter temperature in celsius\"))\n",
    "fahrenheit=(celsius*9/5)+32\n",
    "print(\"Temperature in Fahrenheit is:\",fahrenheit)"
   ]
  },
  {
   "cell_type": "code",
   "execution_count": 20,
   "metadata": {},
   "outputs": [],
   "source": [
    "#area of rectangle"
   ]
  },
  {
   "cell_type": "code",
   "execution_count": 21,
   "metadata": {},
   "outputs": [
    {
     "name": "stdout",
     "output_type": "stream",
     "text": [
      "Enter the breadth of rectangle4\n",
      "Enter the length of rectangle5\n",
      "The area of Rectangle is: 20\n"
     ]
    }
   ],
   "source": [
    "breadth=int(input(\"Enter the breadth of rectangle\"))\n",
    "length=int(input(\"Enter the length of rectangle\"))\n",
    "area_rect=breadth*length\n",
    "print(\"The area of Rectangle is:\",area_rect)"
   ]
  },
  {
   "cell_type": "code",
   "execution_count": 22,
   "metadata": {},
   "outputs": [],
   "source": [
    "#Perimeter of square"
   ]
  },
  {
   "cell_type": "code",
   "execution_count": 24,
   "metadata": {},
   "outputs": [
    {
     "name": "stdout",
     "output_type": "stream",
     "text": [
      "Enter the side of square3\n",
      "Perimeter of Square = 12\n"
     ]
    }
   ],
   "source": [
    "side=int(input(\"Enter the side of square\"))\n",
    "perimeter_of_square=4*side\n",
    "print(\"Perimeter of Square =\",perimeter_of_square)"
   ]
  },
  {
   "cell_type": "code",
   "execution_count": 25,
   "metadata": {},
   "outputs": [],
   "source": [
    "#Circumferance of circle"
   ]
  },
  {
   "cell_type": "code",
   "execution_count": 26,
   "metadata": {},
   "outputs": [
    {
     "name": "stdout",
     "output_type": "stream",
     "text": [
      "Enter radius of circle6\n",
      "The circumferance of circle is 37.68\n"
     ]
    }
   ],
   "source": [
    "r=int(input(\"Enter radius of circle\"))\n",
    "PI=3.14\n",
    "C=2*PI*r\n",
    "print(\"The circumferance of circle is\",C)"
   ]
  },
  {
   "cell_type": "code",
   "execution_count": 27,
   "metadata": {},
   "outputs": [],
   "source": [
    "#Swapping 2 numbers"
   ]
  },
  {
   "cell_type": "code",
   "execution_count": 28,
   "metadata": {},
   "outputs": [
    {
     "name": "stdout",
     "output_type": "stream",
     "text": [
      "Enter First Number: 8\n",
      "Enter Second Number: 9\n",
      "Value of x before swapping:  8\n",
      "Value of y before swapping:  9\n",
      "Value of x after swapping:  9\n",
      "Value of y after swapping:  8\n"
     ]
    }
   ],
   "source": [
    "x = int(input('Enter First Number: '))\n",
    "y = int(input('Enter Second Number: '))\n",
    "\n",
    "print(\"Value of x before swapping: \", x)\n",
    "print(\"Value of y before swapping: \", y)\n",
    "\n",
    "temp = x\n",
    "x = y\n",
    "y = temp\n",
    "\n",
    "print(\"Value of x after swapping: \", x)\n",
    "print(\"Value of y after swapping: \", y)\n"
   ]
  },
  {
   "cell_type": "code",
   "execution_count": null,
   "metadata": {},
   "outputs": [],
   "source": []
  }
 ],
 "metadata": {
  "kernelspec": {
   "display_name": "Python 3",
   "language": "python",
   "name": "python3"
  },
  "language_info": {
   "codemirror_mode": {
    "name": "ipython",
    "version": 3
   },
   "file_extension": ".py",
   "mimetype": "text/x-python",
   "name": "python",
   "nbconvert_exporter": "python",
   "pygments_lexer": "ipython3",
   "version": "3.8.3"
  }
 },
 "nbformat": 4,
 "nbformat_minor": 4
}
